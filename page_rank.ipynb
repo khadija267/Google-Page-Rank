{
  "nbformat": 4,
  "nbformat_minor": 0,
  "metadata": {
    "colab": {
      "name": "page_rank.ipynb",
      "provenance": [],
      "collapsed_sections": [],
      "authorship_tag": "ABX9TyOiMIhX2kwPt/QSfcbRcQ18"
    },
    "kernelspec": {
      "name": "python3",
      "display_name": "Python 3"
    }
  },
  "cells": [
    {
      "cell_type": "markdown",
      "metadata": {
        "id": "JlTooBrd0Q4v",
        "colab_type": "text"
      },
      "source": [
        ""
      ]
    },
    {
      "cell_type": "code",
      "metadata": {
        "id": "yoG48wMFcqQF",
        "colab_type": "code",
        "colab": {}
      },
      "source": [
        "import numpy as np\n",
        "import numpy.linalg as la\n",
        "np.set_printoptions(suppress=True)"
      ],
      "execution_count": 58,
      "outputs": []
    },
    {
      "cell_type": "code",
      "metadata": {
        "id": "fY_3ThVUvP1w",
        "colab_type": "code",
        "colab": {}
      },
      "source": [
        "#assume having 100 user \n",
        "#obtain rank vector that at first it would be all on ones\n",
        "def rank_fn(L):\n",
        "\n",
        "  n=L.shape[0]\n",
        "  r=100*(np.ones(n)/n)\n",
        "  last=r\n",
        "  r=L@r\n",
        "  i=0\n",
        "  while la.norm(last-r>0.01):\n",
        "    last=r\n",
        "    r=L@r\n",
        "    i=i+1\n",
        "  print(str(i+1)+\" iterations to obtain the rank vector r : \"+str(r))\n",
        "  return r\n",
        "  "
      ],
      "execution_count": null,
      "outputs": []
    },
    {
      "cell_type": "code",
      "metadata": {
        "id": "iRCJREja27jc",
        "colab_type": "code",
        "colab": {}
      },
      "source": [
        "########################## Rank Via Eig Built in Function #########################\n",
        "\n",
        "def rank_with_eig(L):\n",
        "  evl,evc=la.eig(L)\n",
        "  order=np.absolute(evl).argsort()[::-1]\n",
        "  evl=evl[order]\n",
        "  evc=evc[:,order]\n",
        "  r=evc[:,0]\n",
        "  print( 100*np.real(r/np.sum(r)))\n",
        "  return r\n",
        "\n"
      ],
      "execution_count": 59,
      "outputs": []
    },
    {
      "cell_type": "code",
      "metadata": {
        "id": "73jLvZ-JvGQc",
        "colab_type": "code",
        "colab": {
          "base_uri": "https://localhost:8080/",
          "height": 86
        },
        "outputId": "b83ea2f8-8912-471d-e43f-9415d0c4af8e"
      },
      "source": [
        "# obtain link matrix of internet.png\n",
        "L = np.array([[0,   1/2, 1/3, 0, 0,   0 ],\n",
        "              [1/3, 0,   0,   0, 1/2, 0 ],\n",
        "              [1/3, 1/2, 0,   1, 0,   1/2 ],\n",
        "              [1/3, 0,   1/3, 0, 1/2, 1/2 ],\n",
        "              [0,   0,   0,   0, 0,   0 ],\n",
        "              [0,   0,   1/3, 0, 0,   0 ]])\n",
        "rank_fn(L)\n",
        "rank_with_eig(L)"
      ],
      "execution_count": 60,
      "outputs": [
        {
          "output_type": "stream",
          "text": [
            "18 iterations to obtain the rank vector r : [15.99756075  5.33432301 40.003013   25.33387147  0.         13.33123177]\n",
            "[16.          5.33333333 40.         25.33333333  0.         13.33333333]\n"
          ],
          "name": "stdout"
        },
        {
          "output_type": "execute_result",
          "data": {
            "text/plain": [
              "array([0.30769231+0.j, 0.1025641 +0.j, 0.76923077+0.j, 0.48717949+0.j,\n",
              "       0.        +0.j, 0.25641026+0.j])"
            ]
          },
          "metadata": {
            "tags": []
          },
          "execution_count": 60
        }
      ]
    },
    {
      "cell_type": "code",
      "metadata": {
        "id": "2c6tdn1D6lnn",
        "colab_type": "code",
        "colab": {
          "base_uri": "https://localhost:8080/",
          "height": 86
        },
        "outputId": "d28e631d-884c-4cd0-def1-3e28b3787d88"
      },
      "source": [
        "#iTest of internet2.png\n",
        "L2 = np.array([[0,   1/2, 1/3, 0, 0,   0, 0 ],\n",
        "               [1/3, 0,   0,   0, 1/2, 0, 0 ],\n",
        "               [1/3, 1/2, 0,   1, 0,   1/2, 0 ],\n",
        "               [1/3, 0,   1/3, 0, 1/2, 1/2, 0 ],\n",
        "               [0,   0,   0,   0, 0,   0, 0 ],\n",
        "               [0,   0,   1/3, 0, 0,   0, 0 ],\n",
        "               [0,   0,   0,   0, 0,   1/2, 1 ]])\n",
        "rank_fn(L2)"
      ],
      "execution_count": 63,
      "outputs": [
        {
          "output_type": "stream",
          "text": [
            "16 iterations to obtain the rank vector r : [ 13.71254905   4.57086111  34.29420011  21.71138463   0.\n",
            "  11.42529081 103.60081163]\n"
          ],
          "name": "stdout"
        },
        {
          "output_type": "execute_result",
          "data": {
            "text/plain": [
              "array([ 13.71254905,   4.57086111,  34.29420011,  21.71138463,\n",
              "         0.        ,  11.42529081, 103.60081163])"
            ]
          },
          "metadata": {
            "tags": []
          },
          "execution_count": 63
        }
      ]
    },
    {
      "cell_type": "code",
      "metadata": {
        "id": "ufWTcrYwoz4s",
        "colab_type": "code",
        "colab": {}
      },
      "source": [
        "def rank_with_d(L,d):\n",
        "  n=L.shape[0]\n",
        "  M=d*L+(1-d)/n*np.ones(n)\n",
        "  r=100*(np.ones(n)/n)\n",
        "  last=r\n",
        "  r=M@r\n",
        "  i=0\n",
        "  while la.norm(last-r>0.01):\n",
        "    last=r\n",
        "    r=M@r\n",
        "    i=i+1\n",
        "  print(str(i+1)+\" iterations to obtain the rank vector r : \"+str(r))\n",
        "  return r\n",
        "\n",
        "  "
      ],
      "execution_count": 50,
      "outputs": []
    },
    {
      "cell_type": "code",
      "metadata": {
        "id": "Ipd31B5lpNfH",
        "colab_type": "code",
        "colab": {
          "base_uri": "https://localhost:8080/",
          "height": 104
        },
        "outputId": "0e8c448e-c916-4b2c-cce2-548318463b72"
      },
      "source": [
        "rank_with_d(L,0.1)\n",
        "rank_with_d(L2,0.1)"
      ],
      "execution_count": 52,
      "outputs": [
        {
          "output_type": "stream",
          "text": [
            "3 iterations to obtain the rank vector r : [16.44552469 16.29830247 18.91496914 17.71049383 15.         15.63070988]\n",
            "2 iterations to obtain the rank vector r : [14.19104308 14.0600907  16.3100907  15.26643991 12.94897959 13.48866213\n",
            " 15.11564626]\n"
          ],
          "name": "stdout"
        },
        {
          "output_type": "execute_result",
          "data": {
            "text/plain": [
              "array([14.19104308, 14.0600907 , 16.3100907 , 15.26643991, 12.94897959,\n",
              "       13.48866213, 15.11564626])"
            ]
          },
          "metadata": {
            "tags": []
          },
          "execution_count": 52
        }
      ]
    },
    {
      "cell_type": "code",
      "metadata": {
        "id": "QQJ_NOtht7h5",
        "colab_type": "code",
        "colab": {
          "base_uri": "https://localhost:8080/",
          "height": 300
        },
        "outputId": "0ba423d9-2466-4730-9d09-9adecaed27e2"
      },
      "source": [
        "#plot r\n",
        "r=rank_with_d(L,0.1)\n",
        "%pylab inline\n",
        "plt.bar(arange(r.shape[0]), r);\n",
        "\n"
      ],
      "execution_count": 56,
      "outputs": [
        {
          "output_type": "stream",
          "text": [
            "3 iterations to obtain the rank vector r : [16.44552469 16.29830247 18.91496914 17.71049383 15.         15.63070988]\n",
            "Populating the interactive namespace from numpy and matplotlib\n"
          ],
          "name": "stdout"
        },
        {
          "output_type": "display_data",
          "data": {
            "image/png": "[encoded data removed]",
            "text/plain": [
              "<Figure size 432x288 with 1 Axes>"
            ]
          },
          "metadata": {
            "tags": [],
            "needs_background": "light"
          }
        }
      ]
    }
  ]
}